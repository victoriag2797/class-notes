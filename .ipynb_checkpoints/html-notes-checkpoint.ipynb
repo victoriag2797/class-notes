{
 "cells": [
  {
   "cell_type": "markdown",
   "id": "a295efe0-2775-492e-be64-0841e9e20408",
   "metadata": {},
   "source": [
    "# HTML Notes"
   ]
  },
  {
   "cell_type": "markdown",
   "id": "c02c3770-aa71-48bb-9507-772de090e42e",
   "metadata": {},
   "source": [
    "## 1. HTML Structure\n",
    "`HTML` is the standard language for creating webpages. It uses a series of elements represented by `tags` like this:"
   ]
  },
  {
   "cell_type": "markdown",
   "id": "0aec45a8-4ba3-49e7-990d-6a9d6e6d6c37",
   "metadata": {},
   "source": [
    "```\n",
    "<!DOCTYPE html>\n",
    "<html>\n",
    "    <head>\n",
    "         <title>Page Title</title>\n",
    "     </head>\n",
    "     <body>\n",
    "         <h1>This is a Heading</h1>\n",
    "         <p>This is a paragraph.</p>\n",
    "    </body>\n",
    "</html>\n",
    "```"
   ]
  },
  {
   "cell_type": "markdown",
   "id": "7d13a6e2-ddbf-4341-90ac-4980b30fe2fd",
   "metadata": {},
   "source": [
    "### Key Elements\n",
    "1. `<<DOCTYPE html>` Declares the document as HTML5\n",
    "2. `<html>` The root element of the HTML document\n",
    "3. `<head>` Contains meta-information about the document (e.g., title, links to stylesheets)\n",
    "4. `<body>` Contains the content of the document"
   ]
  },
  {
   "cell_type": "markdown",
   "id": "d54681b2-e287-411d-b82b-3e37267e7993",
   "metadata": {},
   "source": [
    "## 2. Common HTML Tags\n",
    "### Headings\n",
    "\n",
    "HTML offers six levels of headings, from `<h1>` to `<h6>`, where `<h1>` is the highest (or most important) level\n",
    "```\n",
    "<h1>Most Important Heading</h1>\n",
    "<h2>Kinda Important Heading</h2>\n",
    "<h3>Least Important Heading<h/3>\n",
    "```"
   ]
  },
  {
   "cell_type": "markdown",
   "id": "8d750899-b902-4bac-b574-5ad5d40106f0",
   "metadata": {},
   "source": [
    "## Paragraphs\n",
    "Paragraphs are created using the `<p>` tag\n",
    "\n",
    "```\n",
    "<p>This is an example of a paragraph</p>\n",
    "```"
   ]
  },
  {
   "cell_type": "markdown",
   "id": "dadbdfea-4d3a-4b6d-b3dc-75f3d2703d64",
   "metadata": {},
   "source": [
    "## Links\n",
    "Links are created with the `<a>` tag, which contains an `href` attribute to specify the URL\n",
    "\n",
    "```\n",
    "<a href=\"https://www.tuck.technology/\">Mr.Cooper's Website</a>\n",
    "```"
   ]
  },
  {
   "cell_type": "markdown",
   "id": "d7e54c7b-d567-48d7-8b2f-2942e9622760",
   "metadata": {},
   "source": [
    "## Images\n",
    "Images are embedded using the `<img>` tag with `src` and `alt` attributes\n",
    "\n",
    "```\n",
    "<img src=\"data:image/jpeg;base64,/9j/4AAQSkZJRgABAQAAAQABAAD/2wCEAAkGBw8QAAAB3obeoAjj/9k=\"Photo of  Mr. Cooper\">\n",
    "```"
   ]
  },
  {
   "cell_type": "markdown",
   "id": "24c5d1b1-2ad2-492f-ab8f-6d4b3a5b11db",
   "metadata": {},
   "source": [
    "## Lists\n",
    "There are two main types of lists: ordered `<ol>` and unordered `<ul>`. An unordered list will have dots or a decorator at the beginning of the list, while an ordered list will be numbered\n",
    "### Unordered List\n",
    "```\n",
    "<u1>\n",
    "    <li>La La Land</li>\n",
    "    <li>Dead Poets Society</li>\n",
    "    <li>The Holdovers</li>\n",
    "</ul>\n",
    "```"
   ]
  },
  {
   "cell_type": "markdown",
   "id": "08464415-d778-439d-9e4c-a3a4669e9c17",
   "metadata": {},
   "source": [
    "### Ordered List\n",
    "```\n",
    "<ol>\n",
    "    <li>New York Rangers</li> \n",
    "    <li>Chicago Blackhawks</li>\n",
    "    <li>Detroit Red Wings</li>\n",
    "</ol>\n"
   ]
  },
  {
   "cell_type": "markdown",
   "id": "31a3dcdf-6796-4027-8fa1-0011b22c7daa",
   "metadata": {},
   "source": [
    "# 3. Attributes\n",
    "HTML elements can have attributes, which provide additional information about the element. Attributes are always defined in the opening tag and usually come in name/value pairs. There are many different types of attributes that can be applied to HTML tags.\n",
    "\n",
    "<b>Example:</b>\n",
    "```\n",
    "<a href=\"chicagobean.com\" target=\"_blank\">Chicago Bean</a>\n",
    "```\n",
    "`href` Specifies the link's destination\n",
    "\n",
    "`target=\"_blank\"` Opens the link in a new tab\n"
   ]
  },
  {
   "cell_type": "markdown",
   "id": "c7e9dd74-85ff-4828-b7fd-b4a7ee9126c0",
   "metadata": {},
   "source": [
    "# 4. Divs & Spans\n",
    "`<div>` Defines a division or section in an HTML document. It's often used to group elements for styling or layout\n",
    "\n",
    "`<span>` An inline container used to group content for styling or scripting\n",
    "\n",
    "<b>Example:</b>\n",
    "```\n",
    "<div>\n",
    "    <h1>Title</h1>\n",
    "    <p>This is inside a div.</p>\n",
    "</div>\n",
    "\n",
    "<span>This is inside a span.</span>\n",
    "```"
   ]
  },
  {
   "cell_type": "markdown",
   "id": "1058d816-3b34-4dda-be31-18c48e56680f",
   "metadata": {},
   "source": [
    "# 5. Forms\n",
    "HTML forms collect user input. A form usually contains `input`, `textarea`, `select`, and `button` elements.\n",
    "```\n",
    "<form action=\"/submit\" method=\"post\">\n",
    "    <label for= \"name\">Name:</label>\n",
    "    <input type=\"text\" id=\"name\" name=\"name\">\n",
    "    <input type=\"submit\" value=\"Submit\">\n",
    "</form>\n",
    "```\n",
    "`action` URL to send form data to\n",
    "\n",
    "`method` Specifies how to send form data (get or post)\n"
   ]
  },
  {
   "cell_type": "markdown",
   "id": "4b1139f6-ebf9-4205-a4e3-871f315b0c8a",
   "metadata": {},
   "source": [
    "# 6. Semantic HTML\n",
    "HTML5 introduced new semantic elements to provide better meaning to web pages. This is for better code readability, accessibility for those living with disabilities, and many other benefits.\n",
    "`<header>` Defines a header section\n",
    "\n",
    "`<nav>` Defines a navigation bar\n",
    "\n",
    "`<section>` Defines a section in a document\n",
    "\n",
    "`<article>` Defines independent content\n",
    "\n",
    "`<footer>` Defines a footer for a document or section\n",
    "\n",
    "<b>Examples of Semantic HTML:</b>\n",
    "```\n",
    "<header>\n",
    "    <h1>Welcome to My Website</h1> \n",
    "</header>\n",
    "\n",
    "<nav>\n",
    "    <a href=\"/home\">Home</a>\n",
    "    <a href=\"/about\">About</a>\n",
    "</nav>\n",
    "\n",
    "<section>\n",
    "    <article>\n",
    "        <h2>Blog Post Title</h2>\n",
    "        <p>Blog content goes here...</p>\n",
    "    </article>\n",
    "<section>\n",
    "\n",
    "<footer>\n",
    "    <p>Footer content goes here</p>\n",
    "<footer>\n",
    "```"
   ]
  },
  {
   "cell_type": "code",
   "execution_count": null,
   "id": "c59b343c-d627-494b-96fb-78ba15a5240f",
   "metadata": {},
   "outputs": [],
   "source": []
  }
 ],
 "metadata": {
  "kernelspec": {
   "display_name": "Python 3 (ipykernel)",
   "language": "python",
   "name": "python3"
  },
  "language_info": {
   "codemirror_mode": {
    "name": "ipython",
    "version": 3
   },
   "file_extension": ".py",
   "mimetype": "text/x-python",
   "name": "python",
   "nbconvert_exporter": "python",
   "pygments_lexer": "ipython3",
   "version": "3.12.1"
  }
 },
 "nbformat": 4,
 "nbformat_minor": 5
}
