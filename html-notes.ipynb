{
 "cells": [
  {
   "cell_type": "markdown",
   "id": "a295efe0-2775-492e-be64-0841e9e20408",
   "metadata": {},
   "source": [
    "# HTML Notes"
   ]
  },
  {
   "cell_type": "markdown",
   "id": "c02c3770-aa71-48bb-9507-772de090e42e",
   "metadata": {},
   "source": [
    "## 1. HTML Structure\n",
    "`HTML` is the standard language for creating webpages. It uses a series of elements represented by `tags` like this:"
   ]
  },
  {
   "cell_type": "markdown",
   "id": "0aec45a8-4ba3-49e7-990d-6a9d6e6d6c37",
   "metadata": {},
   "source": [
    "```\n",
    "<!DOCTYPE html>\n",
    "<html>\n",
    "    <head>\n",
    "         <title>Page Title</title>\n",
    "     </head>\n",
    "     <body>\n",
    "         <h1>This is a Heading</h1>\n",
    "         <p>This is a paragraph.</p>\n",
    "    </body>\n",
    "</html>\n",
    "```"
   ]
  },
  {
   "cell_type": "markdown",
   "id": "7d13a6e2-ddbf-4341-90ac-4980b30fe2fd",
   "metadata": {},
   "source": [
    "### Key Elements\n",
    "1. `<<DOCTYPE html>` Declares the document as HTML5\n",
    "2. `<html>` The root element of the HTML document\n",
    "3. `<head>` Contains meta-information about the document (e.g., title, links to stylesheets)\n",
    "4. `<body>` Contains the content of the document"
   ]
  },
  {
   "cell_type": "markdown",
   "id": "d54681b2-e287-411d-b82b-3e37267e7993",
   "metadata": {},
   "source": [
    "## 2. Common HTML Tags\n",
    "### Headings\n",
    "```\n",
    "HTML offers six levels of headings, from `<h1>` to `<h6>`, where `<h1>` is the highest (or most important) level"
   ]
  },
  {
   "cell_type": "code",
   "execution_count": null,
   "id": "cb83bb7e-4d3e-4774-9163-1002b7defe09",
   "metadata": {},
   "outputs": [],
   "source": []
  }
 ],
 "metadata": {
  "kernelspec": {
   "display_name": "Python 3 (ipykernel)",
   "language": "python",
   "name": "python3"
  },
  "language_info": {
   "codemirror_mode": {
    "name": "ipython",
    "version": 3
   },
   "file_extension": ".py",
   "mimetype": "text/x-python",
   "name": "python",
   "nbconvert_exporter": "python",
   "pygments_lexer": "ipython3",
   "version": "3.12.1"
  }
 },
 "nbformat": 4,
 "nbformat_minor": 5
}
